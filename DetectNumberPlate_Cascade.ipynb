{
 "cells": [
  {
   "cell_type": "code",
   "execution_count": 29,
   "metadata": {},
   "outputs": [],
   "source": [
    "import cv2\n",
    "import matplotlib.pyplot as plt"
   ]
  },
  {
   "cell_type": "code",
   "execution_count": 34,
   "metadata": {},
   "outputs": [],
   "source": [
    "def computeSafeRegion(shape,bounding_rect):\n",
    "    \n",
    "        top = bounding_rect[1] # y\n",
    "        bottom  = bounding_rect[1] + bounding_rect[3] # y +  h\n",
    "        left = bounding_rect[0] # x\n",
    "        right =   bounding_rect[0] + bounding_rect[2] # x +  w\n",
    "        min_top = 0\n",
    "        max_bottom = shape[0]\n",
    "        min_left = 0\n",
    "        max_right = shape[1]\n",
    "\n",
    "        if top < min_top:\n",
    "            top = min_top\n",
    "        if left < min_left:\n",
    "            left = min_left\n",
    "        if bottom > max_bottom:\n",
    "            bottom = max_bottom\n",
    "        if right > max_right:\n",
    "            right = max_right\n",
    "        return [left,top,right-left,bottom-top]   \n"
   ]
  },
  {
   "cell_type": "code",
   "execution_count": 35,
   "metadata": {},
   "outputs": [],
   "source": [
    "def cropImage(image,rect):\n",
    "    \n",
    "        x, y, w, h = computeSafeRegion(image.shape,rect)\n",
    "\n",
    "        return image[y:y+h,x:x+w]"
   ]
  },
  {
   "cell_type": "code",
   "execution_count": 36,
   "metadata": {},
   "outputs": [],
   "source": [
    "def detectPlateRough(image_gray,resize_h = 720,en_scale =1.08 ,top_bottom_padding_rate = 0.05):\n",
    "        if top_bottom_padding_rate>0.2:\n",
    "            print(\"error:top_bottom_padding_rate > 0.2:\",top_bottom_padding_rate)\n",
    "            exit(1)\n",
    "            \n",
    "        height = image_gray.shape[0]\n",
    "        padding = int(height*top_bottom_padding_rate)\n",
    "        scale = image_gray.shape[1]/float(image_gray.shape[0])\n",
    "        image = cv2.resize(image_gray, (int(scale*resize_h), resize_h))\n",
    "        image_color_cropped = image[padding:resize_h-padding,0:image_gray.shape[1]]\n",
    "        \n",
    "\n",
    "        image_gray = cv2.cvtColor(image_color_cropped,cv2.COLOR_RGB2GRAY)\n",
    "        watches = watch_cascade.detectMultiScale(image_gray, en_scale, 2, minSize=(36, 9),maxSize=(36*40, 9*40))\n",
    "        cropped_images = []\n",
    "        for (x, y, w, h) in watches:\n",
    "\n",
    "            x -= w * 0.14\n",
    "            w += w * 0.28\n",
    "            y -= h * 0.15\n",
    "            h += h * 0.3\n",
    "\n",
    "            cropped = cropImage(image_color_cropped, (int(x), int(y), int(w), int(h)))\n",
    "            cropped_images.append([cropped,[x, y+padding, w, h]])\n",
    "        \n",
    "        return cropped_images"
   ]
  },
  {
   "cell_type": "code",
   "execution_count": 42,
   "metadata": {},
   "outputs": [
    {
     "data": {
      "image/png": "[encoded data removed]",
      "text/plain": [
       "<Figure size 432x288 with 2 Axes>"
      ]
     },
     "metadata": {},
     "output_type": "display_data"
    }
   ],
   "source": [
    "watch_cascade = cv2.CascadeClassifier('cascade.xml')\n",
    "image = cv2.imread(\"car1.png\")\n",
    "images = detectPlateRough(image,image.shape[0],top_bottom_padding_rate=0.1)\n",
    "\n",
    "k= len(images)//2\n",
    "for i in range(len(images)):\n",
    "    plt.subplot(k+1,2,i+3),plt.imshow(images[i][0])\n",
    "    plt.title('Plate No. '+str(i+1)), plt.xticks([]), plt.yticks([])\n",
    "    \n",
    "    cv2.imwrite('Plate No. '+str(i+1)+'.png', images[i][0])"
   ]
  }
 ],
 "metadata": {
  "kernelspec": {
   "display_name": "Python 3",
   "language": "python",
   "name": "python3"
  },
  "language_info": {
   "codemirror_mode": {
    "name": "ipython",
    "version": 3
   },
   "file_extension": ".py",
   "mimetype": "text/x-python",
   "name": "python",
   "nbconvert_exporter": "python",
   "pygments_lexer": "ipython3",
   "version": "3.7.4"
  }
 },
 "nbformat": 4,
 "nbformat_minor": 2
}
