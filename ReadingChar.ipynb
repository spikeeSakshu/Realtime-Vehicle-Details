{
 "cells": [
  {
   "cell_type": "code",
   "execution_count": 1,
   "metadata": {},
   "outputs": [],
   "source": [
    "import cv2\n",
    "import matplotlib.pyplot as plt\n",
    "import numpy as np\n",
    "import imutils\n",
    "from copy import deepcopy\n",
    "from PIL import Image\n",
    "import pytesseract as tess\n",
    "tess.pytesseract.tesseract_cmd = 'C:/Program Files/Tesseract-OCR/tesseract.exe'"
   ]
  },
  {
   "cell_type": "code",
   "execution_count": 2,
   "metadata": {},
   "outputs": [
    {
     "data": {
      "text/plain": [
       "<matplotlib.image.AxesImage at 0x2208fb37188>"
      ]
     },
     "execution_count": 2,
     "metadata": {},
     "output_type": "execute_result"
    },
    {
     "data": {
      "image/png": "[encoded data removed]",
      "text/plain": [
       "<Figure size 432x288 with 1 Axes>"
      ]
     },
     "metadata": {
      "needs_background": "light"
     },
     "output_type": "display_data"
    }
   ],
   "source": [
    "img=  cv2.imread('Plate No. 1.png')\n",
    "# img = cv2.cvtColor(img,cv2.COLOR_BGR2RGB)\n",
    "gray_img = cv2.imread('Plate No. 1.png',0)\n",
    "plt.imshow(gray_img,cmap=\"gray\", vmin=0, vmax=255)"
   ]
  },
  {
   "cell_type": "code",
   "execution_count": 3,
   "metadata": {},
   "outputs": [
    {
     "data": {
      "text/plain": [
       "<matplotlib.image.AxesImage at 0x22091268908>"
      ]
     },
     "execution_count": 3,
     "metadata": {},
     "output_type": "execute_result"
    },
    {
     "data": {
      "image/png": "[encoded data removed]",
      "text/plain": [
       "<Figure size 432x288 with 1 Axes>"
      ]
     },
     "metadata": {
      "needs_background": "light"
     },
     "output_type": "display_data"
    }
   ],
   "source": [
    "### Converting to Binary form\n",
    "ret, thresh = cv2.threshold(gray_img,150,255,cv2.THRESH_BINARY_INV+cv2.THRESH_OTSU)\n",
    "plt.imshow(thresh,cmap=\"gray\", vmin=0, vmax=255)"
   ]
  },
  {
   "cell_type": "code",
   "execution_count": 34,
   "metadata": {},
   "outputs": [],
   "source": [
    "def preprocess(img):\n",
    "#     imgBlurred = cv2.GaussianBlur(img, (5,5), 0)\n",
    "    gray = cv2.cvtColor(img, cv2.COLOR_BGR2GRAY)\n",
    "\n",
    "\n",
    "    ret2,threshold_img = cv2.threshold(gray,0,255,cv2.THRESH_BINARY_INV+cv2.THRESH_OTSU)\n",
    "\n",
    "    plt.subplot(2,2,1),plt.imshow(threshold_img,cmap=\"gray\", vmin=0, vmax=255)\n",
    "    return threshold_img\n"
   ]
  },
  {
   "cell_type": "code",
   "execution_count": 53,
   "metadata": {},
   "outputs": [],
   "source": [
    "def cleanPlate(plate):\n",
    "\tprint(\"CLEANING PLATE. . .\")\n",
    "\tgray = cv2.cvtColor(plate, cv2.COLOR_BGR2GRAY)\n",
    "\tkernel = cv2.getStructuringElement(cv2.MORPH_CROSS, (3, 3))\n",
    "\tthresh= cv2.dilate(gray, kernel, iterations=1)\n",
    "\n",
    "\t_, thresh = cv2.threshold(thresh, 150, 255, cv2.THRESH_BINARY_INV+cv2.THRESH_OTSU)\n",
    "\tcontours,hierarchy = cv2.findContours(thresh.copy(),cv2.RETR_EXTERNAL, cv2.CHAIN_APPROX_NONE)\n",
    "\n",
    "\tif contours:\n",
    "\t\tareas = [cv2.contourArea(c) for c in contours]\n",
    "\t\tmax_index = np.argmax(areas)\n",
    "\n",
    "\t\tmax_cnt = contours[max_index]\n",
    "\t\tmax_cntArea = areas[max_index]\n",
    "\t\tx,y,w,h = cv2.boundingRect(max_cnt)\n",
    "\n",
    "\t\tif not ratioCheck(max_cntArea,w,h):\n",
    "\t\t\treturn plate,None\n",
    "\n",
    "\t\tcleaned_final = thresh[y:y+h, x:x+w]\n",
    "\t\t#cv2.imshow(\"Function Test\",cleaned_final)\n",
    "\t\treturn cleaned_final,[x,y,w,h]\n",
    "\n",
    "\telse:\n",
    "\t\treturn plate,None"
   ]
  },
  {
   "cell_type": "code",
   "execution_count": 54,
   "metadata": {},
   "outputs": [],
   "source": [
    "def ratioCheck(area, width, height):\n",
    "\tratio = float(width) / float(height)\n",
    "\tif ratio < 1:\n",
    "\t\tratio = 1 / ratio\n",
    "\n",
    "\taspect = 4.7272\n",
    "\tmin = 15*aspect*15  # minimum area\n",
    "\tmax = 125*aspect*125  # maximum area\n",
    "\n",
    "\trmin = 3\n",
    "\trmax = 6\n",
    "\n",
    "\tif (area < min or area > max) or (ratio < rmin or ratio > rmax):\n",
    "\t\treturn False\n",
    "\treturn True\n",
    "\n",
    "def isMaxWhite(plate):\n",
    "\tavg = np.mean(plate)\n",
    "\tif(avg>=115):\n",
    "\t\treturn True\n",
    "\telse:\n",
    " \t\treturn False\n",
    "\n",
    "def validateRotationAndRatio(rect):\n",
    "\t(x, y), (width, height), rect_angle = rect\n",
    "\n",
    "\tif(width>height):\n",
    "\t\tangle = -rect_angle\n",
    "\telse:\n",
    "\t\tangle = 90 + rect_angle\n",
    "\n",
    "\tif angle>15:\n",
    "\t \treturn False\n",
    "\n",
    "\tif height == 0 or width == 0:\n",
    "\t\treturn False\n",
    "\n",
    "\tarea = height*width\n",
    "\tif not ratioCheck(area,width,height):\n",
    "\t\treturn False\n",
    "\telse:\n",
    "\t\treturn True"
   ]
  },
  {
   "cell_type": "code",
   "execution_count": 55,
   "metadata": {},
   "outputs": [],
   "source": [
    "def extract_contours(threshold_img):\n",
    "    \n",
    "    element = cv2.getStructuringElement(shape=cv2.MORPH_RECT, ksize=(17, 3))\n",
    "    morph_img_threshold = threshold_img.copy()\n",
    "    cv2.morphologyEx(src=threshold_img, op=cv2.MORPH_CLOSE, kernel=element, dst=morph_img_threshold)\n",
    "    \n",
    "    plt.subplot(2,2,2),plt.imshow(morph_img_threshold,cmap=\"gray\", vmin=0, vmax=255)\n",
    "\n",
    "\n",
    "    contours, hierarchy= cv2.findContours(threshold_img.copy(), cv2.RETR_EXTERNAL, cv2.CHAIN_APPROX_NONE)\n",
    "\n",
    "    return contours"
   ]
  },
  {
   "cell_type": "code",
   "execution_count": 56,
   "metadata": {},
   "outputs": [],
   "source": [
    "\n",
    "def cleanAndRead(img,contours):\n",
    "    for i,cnt in enumerate(contours):\n",
    "        min_rect = cv2.minAreaRect(cnt)\n",
    "\n",
    "        if validateRotationAndRatio(min_rect):\n",
    "\n",
    "            x,y,w,h = cv2.boundingRect(cnt)\n",
    "            plate_img = img[y:y+h,x:x+w]\n",
    "\n",
    "\n",
    "            if(isMaxWhite(plate_img)):\n",
    "                clean_plate, rect = cleanPlate(plate_img)\n",
    "                \n",
    "                if rect:\n",
    "                    x1,y1,w1,h1 = rect\n",
    "                    x,y,w,h = x+x1,y+y1,w1,h1\n",
    "                    plt.subplot(2,2,3), plt.imshow(clean_plate, cmap='gray')\n",
    "                    plate_im = Image.fromarray(clean_plate)\n",
    "                    text = tess.image_to_string(plate_im, lang='eng')\n",
    "                    print(\"Detected Text : \",text)\n",
    "\n",
    "\n",
    "\t#print \"No. of final cont : \" , count"
   ]
  },
  {
   "cell_type": "code",
   "execution_count": 57,
   "metadata": {},
   "outputs": [
    {
     "name": "stdout",
     "output_type": "stream",
     "text": [
      "CLEANING PLATE. . .\n"
     ]
    },
    {
     "data": {
      "image/png": "[encoded data removed]",
      "text/plain": [
       "<Figure size 432x288 with 2 Axes>"
      ]
     },
     "metadata": {
      "needs_background": "light"
     },
     "output_type": "display_data"
    }
   ],
   "source": [
    "img=  cv2.imread('Plate No. 1.png')\n",
    "threshold_img = preprocess(img)\n",
    "contours= extract_contours(threshold_img)\n",
    "cleanAndRead(img,contours)"
   ]
  },
  {
   "cell_type": "code",
   "execution_count": null,
   "metadata": {},
   "outputs": [],
   "source": []
  },
  {
   "cell_type": "code",
   "execution_count": null,
   "metadata": {},
   "outputs": [],
   "source": []
  }
 ],
 "metadata": {
  "kernelspec": {
   "display_name": "Python 3",
   "language": "python",
   "name": "python3"
  },
  "language_info": {
   "codemirror_mode": {
    "name": "ipython",
    "version": 3
   },
   "file_extension": ".py",
   "mimetype": "text/x-python",
   "name": "python",
   "nbconvert_exporter": "python",
   "pygments_lexer": "ipython3",
   "version": "3.7.4"
  }
 },
 "nbformat": 4,
 "nbformat_minor": 2
}
